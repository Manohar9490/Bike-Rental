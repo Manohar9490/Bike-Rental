{
 "cells": [
  {
   "cell_type": "markdown",
   "metadata": {},
   "source": [
    "## Importing the libraries and modules"
   ]
  },
  {
   "cell_type": "code",
   "execution_count": 1,
   "metadata": {},
   "outputs": [],
   "source": [
    "import numpy as np\n",
    "import pandas as pd\n",
    "import statsmodels.api as sm\n",
    "import matplotlib.pyplot as plt\n",
    "from sklearn.linear_model import LinearRegression\n",
    "import seaborn as sns\n",
    "sns.set()"
   ]
  },
  {
   "cell_type": "markdown",
   "metadata": {},
   "source": [
    "## Importing Data"
   ]
  },
  {
   "cell_type": "code",
   "execution_count": 2,
   "metadata": {},
   "outputs": [
    {
     "data": {
      "text/html": [
       "<div>\n",
       "<style scoped>\n",
       "    .dataframe tbody tr th:only-of-type {\n",
       "        vertical-align: middle;\n",
       "    }\n",
       "\n",
       "    .dataframe tbody tr th {\n",
       "        vertical-align: top;\n",
       "    }\n",
       "\n",
       "    .dataframe thead th {\n",
       "        text-align: right;\n",
       "    }\n",
       "</style>\n",
       "<table border=\"1\" class=\"dataframe\">\n",
       "  <thead>\n",
       "    <tr style=\"text-align: right;\">\n",
       "      <th></th>\n",
       "      <th>instant</th>\n",
       "      <th>dteday</th>\n",
       "      <th>season</th>\n",
       "      <th>yr</th>\n",
       "      <th>mnth</th>\n",
       "      <th>holiday</th>\n",
       "      <th>weekday</th>\n",
       "      <th>workingday</th>\n",
       "      <th>weathersit</th>\n",
       "      <th>temp</th>\n",
       "      <th>atemp</th>\n",
       "      <th>hum</th>\n",
       "      <th>windspeed</th>\n",
       "      <th>casual</th>\n",
       "      <th>registered</th>\n",
       "      <th>cnt</th>\n",
       "    </tr>\n",
       "  </thead>\n",
       "  <tbody>\n",
       "    <tr>\n",
       "      <th>0</th>\n",
       "      <td>1</td>\n",
       "      <td>2011-01-01</td>\n",
       "      <td>1</td>\n",
       "      <td>0</td>\n",
       "      <td>1</td>\n",
       "      <td>0</td>\n",
       "      <td>6</td>\n",
       "      <td>0</td>\n",
       "      <td>2</td>\n",
       "      <td>0.344167</td>\n",
       "      <td>0.363625</td>\n",
       "      <td>0.805833</td>\n",
       "      <td>0.160446</td>\n",
       "      <td>331</td>\n",
       "      <td>654</td>\n",
       "      <td>985</td>\n",
       "    </tr>\n",
       "    <tr>\n",
       "      <th>1</th>\n",
       "      <td>2</td>\n",
       "      <td>2011-01-02</td>\n",
       "      <td>1</td>\n",
       "      <td>0</td>\n",
       "      <td>1</td>\n",
       "      <td>0</td>\n",
       "      <td>0</td>\n",
       "      <td>0</td>\n",
       "      <td>2</td>\n",
       "      <td>0.363478</td>\n",
       "      <td>0.353739</td>\n",
       "      <td>0.696087</td>\n",
       "      <td>0.248539</td>\n",
       "      <td>131</td>\n",
       "      <td>670</td>\n",
       "      <td>801</td>\n",
       "    </tr>\n",
       "    <tr>\n",
       "      <th>2</th>\n",
       "      <td>3</td>\n",
       "      <td>2011-01-03</td>\n",
       "      <td>1</td>\n",
       "      <td>0</td>\n",
       "      <td>1</td>\n",
       "      <td>0</td>\n",
       "      <td>1</td>\n",
       "      <td>1</td>\n",
       "      <td>1</td>\n",
       "      <td>0.196364</td>\n",
       "      <td>0.189405</td>\n",
       "      <td>0.437273</td>\n",
       "      <td>0.248309</td>\n",
       "      <td>120</td>\n",
       "      <td>1229</td>\n",
       "      <td>1349</td>\n",
       "    </tr>\n",
       "    <tr>\n",
       "      <th>3</th>\n",
       "      <td>4</td>\n",
       "      <td>2011-01-04</td>\n",
       "      <td>1</td>\n",
       "      <td>0</td>\n",
       "      <td>1</td>\n",
       "      <td>0</td>\n",
       "      <td>2</td>\n",
       "      <td>1</td>\n",
       "      <td>1</td>\n",
       "      <td>0.200000</td>\n",
       "      <td>0.212122</td>\n",
       "      <td>0.590435</td>\n",
       "      <td>0.160296</td>\n",
       "      <td>108</td>\n",
       "      <td>1454</td>\n",
       "      <td>1562</td>\n",
       "    </tr>\n",
       "    <tr>\n",
       "      <th>4</th>\n",
       "      <td>5</td>\n",
       "      <td>2011-01-05</td>\n",
       "      <td>1</td>\n",
       "      <td>0</td>\n",
       "      <td>1</td>\n",
       "      <td>0</td>\n",
       "      <td>3</td>\n",
       "      <td>1</td>\n",
       "      <td>1</td>\n",
       "      <td>0.226957</td>\n",
       "      <td>0.229270</td>\n",
       "      <td>0.436957</td>\n",
       "      <td>0.186900</td>\n",
       "      <td>82</td>\n",
       "      <td>1518</td>\n",
       "      <td>1600</td>\n",
       "    </tr>\n",
       "  </tbody>\n",
       "</table>\n",
       "</div>"
      ],
      "text/plain": [
       "   instant      dteday  season  yr  mnth  holiday  weekday  workingday  \\\n",
       "0        1  2011-01-01       1   0     1        0        6           0   \n",
       "1        2  2011-01-02       1   0     1        0        0           0   \n",
       "2        3  2011-01-03       1   0     1        0        1           1   \n",
       "3        4  2011-01-04       1   0     1        0        2           1   \n",
       "4        5  2011-01-05       1   0     1        0        3           1   \n",
       "\n",
       "   weathersit      temp     atemp       hum  windspeed  casual  registered  \\\n",
       "0           2  0.344167  0.363625  0.805833   0.160446     331         654   \n",
       "1           2  0.363478  0.353739  0.696087   0.248539     131         670   \n",
       "2           1  0.196364  0.189405  0.437273   0.248309     120        1229   \n",
       "3           1  0.200000  0.212122  0.590435   0.160296     108        1454   \n",
       "4           1  0.226957  0.229270  0.436957   0.186900      82        1518   \n",
       "\n",
       "    cnt  \n",
       "0   985  \n",
       "1   801  \n",
       "2  1349  \n",
       "3  1562  \n",
       "4  1600  "
      ]
     },
     "execution_count": 2,
     "metadata": {},
     "output_type": "execute_result"
    }
   ],
   "source": [
    "#Assigning the data\n",
    "Rental = pd.read_csv(\"day.csv\")\n",
    "\n",
    "#Explore the top 5 rows\n",
    "Rental.head()"
   ]
  },
  {
   "cell_type": "markdown",
   "metadata": {},
   "source": [
    "# Preprocessing the Data"
   ]
  },
  {
   "cell_type": "code",
   "execution_count": 3,
   "metadata": {},
   "outputs": [
    {
     "data": {
      "text/html": [
       "<div>\n",
       "<style scoped>\n",
       "    .dataframe tbody tr th:only-of-type {\n",
       "        vertical-align: middle;\n",
       "    }\n",
       "\n",
       "    .dataframe tbody tr th {\n",
       "        vertical-align: top;\n",
       "    }\n",
       "\n",
       "    .dataframe thead th {\n",
       "        text-align: right;\n",
       "    }\n",
       "</style>\n",
       "<table border=\"1\" class=\"dataframe\">\n",
       "  <thead>\n",
       "    <tr style=\"text-align: right;\">\n",
       "      <th></th>\n",
       "      <th>season</th>\n",
       "      <th>yr</th>\n",
       "      <th>mnth</th>\n",
       "      <th>holiday</th>\n",
       "      <th>weekday</th>\n",
       "      <th>workingday</th>\n",
       "      <th>weathersit</th>\n",
       "      <th>temp</th>\n",
       "      <th>atemp</th>\n",
       "      <th>hum</th>\n",
       "      <th>windspeed</th>\n",
       "      <th>casual</th>\n",
       "      <th>registered</th>\n",
       "      <th>cnt</th>\n",
       "    </tr>\n",
       "  </thead>\n",
       "  <tbody>\n",
       "    <tr>\n",
       "      <th>0</th>\n",
       "      <td>1</td>\n",
       "      <td>0</td>\n",
       "      <td>1</td>\n",
       "      <td>0</td>\n",
       "      <td>6</td>\n",
       "      <td>0</td>\n",
       "      <td>2</td>\n",
       "      <td>0.344167</td>\n",
       "      <td>0.363625</td>\n",
       "      <td>0.805833</td>\n",
       "      <td>0.160446</td>\n",
       "      <td>331</td>\n",
       "      <td>654</td>\n",
       "      <td>985</td>\n",
       "    </tr>\n",
       "    <tr>\n",
       "      <th>1</th>\n",
       "      <td>1</td>\n",
       "      <td>0</td>\n",
       "      <td>1</td>\n",
       "      <td>0</td>\n",
       "      <td>0</td>\n",
       "      <td>0</td>\n",
       "      <td>2</td>\n",
       "      <td>0.363478</td>\n",
       "      <td>0.353739</td>\n",
       "      <td>0.696087</td>\n",
       "      <td>0.248539</td>\n",
       "      <td>131</td>\n",
       "      <td>670</td>\n",
       "      <td>801</td>\n",
       "    </tr>\n",
       "    <tr>\n",
       "      <th>2</th>\n",
       "      <td>1</td>\n",
       "      <td>0</td>\n",
       "      <td>1</td>\n",
       "      <td>0</td>\n",
       "      <td>1</td>\n",
       "      <td>1</td>\n",
       "      <td>1</td>\n",
       "      <td>0.196364</td>\n",
       "      <td>0.189405</td>\n",
       "      <td>0.437273</td>\n",
       "      <td>0.248309</td>\n",
       "      <td>120</td>\n",
       "      <td>1229</td>\n",
       "      <td>1349</td>\n",
       "    </tr>\n",
       "    <tr>\n",
       "      <th>3</th>\n",
       "      <td>1</td>\n",
       "      <td>0</td>\n",
       "      <td>1</td>\n",
       "      <td>0</td>\n",
       "      <td>2</td>\n",
       "      <td>1</td>\n",
       "      <td>1</td>\n",
       "      <td>0.200000</td>\n",
       "      <td>0.212122</td>\n",
       "      <td>0.590435</td>\n",
       "      <td>0.160296</td>\n",
       "      <td>108</td>\n",
       "      <td>1454</td>\n",
       "      <td>1562</td>\n",
       "    </tr>\n",
       "    <tr>\n",
       "      <th>4</th>\n",
       "      <td>1</td>\n",
       "      <td>0</td>\n",
       "      <td>1</td>\n",
       "      <td>0</td>\n",
       "      <td>3</td>\n",
       "      <td>1</td>\n",
       "      <td>1</td>\n",
       "      <td>0.226957</td>\n",
       "      <td>0.229270</td>\n",
       "      <td>0.436957</td>\n",
       "      <td>0.186900</td>\n",
       "      <td>82</td>\n",
       "      <td>1518</td>\n",
       "      <td>1600</td>\n",
       "    </tr>\n",
       "  </tbody>\n",
       "</table>\n",
       "</div>"
      ],
      "text/plain": [
       "   season  yr  mnth  holiday  weekday  workingday  weathersit      temp  \\\n",
       "0       1   0     1        0        6           0           2  0.344167   \n",
       "1       1   0     1        0        0           0           2  0.363478   \n",
       "2       1   0     1        0        1           1           1  0.196364   \n",
       "3       1   0     1        0        2           1           1  0.200000   \n",
       "4       1   0     1        0        3           1           1  0.226957   \n",
       "\n",
       "      atemp       hum  windspeed  casual  registered   cnt  \n",
       "0  0.363625  0.805833   0.160446     331         654   985  \n",
       "1  0.353739  0.696087   0.248539     131         670   801  \n",
       "2  0.189405  0.437273   0.248309     120        1229  1349  \n",
       "3  0.212122  0.590435   0.160296     108        1454  1562  \n",
       "4  0.229270  0.436957   0.186900      82        1518  1600  "
      ]
     },
     "execution_count": 3,
     "metadata": {},
     "output_type": "execute_result"
    }
   ],
   "source": [
    "###variables instant  and dteday didn't help for creating the model, so removing from the data\n",
    "\n",
    "Rental1 = Rental.drop(['instant','dteday'],axis=1)\n",
    "\n",
    "Rental1.head()"
   ]
  },
  {
   "cell_type": "code",
   "execution_count": 4,
   "metadata": {},
   "outputs": [
    {
     "data": {
      "text/html": [
       "<div>\n",
       "<style scoped>\n",
       "    .dataframe tbody tr th:only-of-type {\n",
       "        vertical-align: middle;\n",
       "    }\n",
       "\n",
       "    .dataframe tbody tr th {\n",
       "        vertical-align: top;\n",
       "    }\n",
       "\n",
       "    .dataframe thead th {\n",
       "        text-align: right;\n",
       "    }\n",
       "</style>\n",
       "<table border=\"1\" class=\"dataframe\">\n",
       "  <thead>\n",
       "    <tr style=\"text-align: right;\">\n",
       "      <th></th>\n",
       "      <th>season</th>\n",
       "      <th>yr</th>\n",
       "      <th>mnth</th>\n",
       "      <th>holiday</th>\n",
       "      <th>weekday</th>\n",
       "      <th>workingday</th>\n",
       "      <th>weathersit</th>\n",
       "      <th>temp</th>\n",
       "      <th>atemp</th>\n",
       "      <th>hum</th>\n",
       "      <th>windspeed</th>\n",
       "      <th>casual</th>\n",
       "      <th>registered</th>\n",
       "      <th>cnt</th>\n",
       "    </tr>\n",
       "  </thead>\n",
       "  <tbody>\n",
       "    <tr>\n",
       "      <th>count</th>\n",
       "      <td>731.000000</td>\n",
       "      <td>731.000000</td>\n",
       "      <td>731.000000</td>\n",
       "      <td>731.000000</td>\n",
       "      <td>731.000000</td>\n",
       "      <td>731.000000</td>\n",
       "      <td>731.000000</td>\n",
       "      <td>731.000000</td>\n",
       "      <td>731.000000</td>\n",
       "      <td>731.000000</td>\n",
       "      <td>731.000000</td>\n",
       "      <td>731.000000</td>\n",
       "      <td>731.000000</td>\n",
       "      <td>731.000000</td>\n",
       "    </tr>\n",
       "    <tr>\n",
       "      <th>mean</th>\n",
       "      <td>2.496580</td>\n",
       "      <td>0.500684</td>\n",
       "      <td>6.519836</td>\n",
       "      <td>0.028728</td>\n",
       "      <td>2.997264</td>\n",
       "      <td>0.683995</td>\n",
       "      <td>1.395349</td>\n",
       "      <td>0.495385</td>\n",
       "      <td>0.474354</td>\n",
       "      <td>0.627894</td>\n",
       "      <td>0.190486</td>\n",
       "      <td>848.176471</td>\n",
       "      <td>3656.172367</td>\n",
       "      <td>4504.348837</td>\n",
       "    </tr>\n",
       "    <tr>\n",
       "      <th>std</th>\n",
       "      <td>1.110807</td>\n",
       "      <td>0.500342</td>\n",
       "      <td>3.451913</td>\n",
       "      <td>0.167155</td>\n",
       "      <td>2.004787</td>\n",
       "      <td>0.465233</td>\n",
       "      <td>0.544894</td>\n",
       "      <td>0.183051</td>\n",
       "      <td>0.162961</td>\n",
       "      <td>0.142429</td>\n",
       "      <td>0.077498</td>\n",
       "      <td>686.622488</td>\n",
       "      <td>1560.256377</td>\n",
       "      <td>1937.211452</td>\n",
       "    </tr>\n",
       "    <tr>\n",
       "      <th>min</th>\n",
       "      <td>1.000000</td>\n",
       "      <td>0.000000</td>\n",
       "      <td>1.000000</td>\n",
       "      <td>0.000000</td>\n",
       "      <td>0.000000</td>\n",
       "      <td>0.000000</td>\n",
       "      <td>1.000000</td>\n",
       "      <td>0.059130</td>\n",
       "      <td>0.079070</td>\n",
       "      <td>0.000000</td>\n",
       "      <td>0.022392</td>\n",
       "      <td>2.000000</td>\n",
       "      <td>20.000000</td>\n",
       "      <td>22.000000</td>\n",
       "    </tr>\n",
       "    <tr>\n",
       "      <th>25%</th>\n",
       "      <td>2.000000</td>\n",
       "      <td>0.000000</td>\n",
       "      <td>4.000000</td>\n",
       "      <td>0.000000</td>\n",
       "      <td>1.000000</td>\n",
       "      <td>0.000000</td>\n",
       "      <td>1.000000</td>\n",
       "      <td>0.337083</td>\n",
       "      <td>0.337842</td>\n",
       "      <td>0.520000</td>\n",
       "      <td>0.134950</td>\n",
       "      <td>315.500000</td>\n",
       "      <td>2497.000000</td>\n",
       "      <td>3152.000000</td>\n",
       "    </tr>\n",
       "    <tr>\n",
       "      <th>50%</th>\n",
       "      <td>3.000000</td>\n",
       "      <td>1.000000</td>\n",
       "      <td>7.000000</td>\n",
       "      <td>0.000000</td>\n",
       "      <td>3.000000</td>\n",
       "      <td>1.000000</td>\n",
       "      <td>1.000000</td>\n",
       "      <td>0.498333</td>\n",
       "      <td>0.486733</td>\n",
       "      <td>0.626667</td>\n",
       "      <td>0.180975</td>\n",
       "      <td>713.000000</td>\n",
       "      <td>3662.000000</td>\n",
       "      <td>4548.000000</td>\n",
       "    </tr>\n",
       "    <tr>\n",
       "      <th>75%</th>\n",
       "      <td>3.000000</td>\n",
       "      <td>1.000000</td>\n",
       "      <td>10.000000</td>\n",
       "      <td>0.000000</td>\n",
       "      <td>5.000000</td>\n",
       "      <td>1.000000</td>\n",
       "      <td>2.000000</td>\n",
       "      <td>0.655417</td>\n",
       "      <td>0.608602</td>\n",
       "      <td>0.730209</td>\n",
       "      <td>0.233214</td>\n",
       "      <td>1096.000000</td>\n",
       "      <td>4776.500000</td>\n",
       "      <td>5956.000000</td>\n",
       "    </tr>\n",
       "    <tr>\n",
       "      <th>max</th>\n",
       "      <td>4.000000</td>\n",
       "      <td>1.000000</td>\n",
       "      <td>12.000000</td>\n",
       "      <td>1.000000</td>\n",
       "      <td>6.000000</td>\n",
       "      <td>1.000000</td>\n",
       "      <td>3.000000</td>\n",
       "      <td>0.861667</td>\n",
       "      <td>0.840896</td>\n",
       "      <td>0.972500</td>\n",
       "      <td>0.507463</td>\n",
       "      <td>3410.000000</td>\n",
       "      <td>6946.000000</td>\n",
       "      <td>8714.000000</td>\n",
       "    </tr>\n",
       "  </tbody>\n",
       "</table>\n",
       "</div>"
      ],
      "text/plain": [
       "           season          yr        mnth     holiday     weekday  workingday  \\\n",
       "count  731.000000  731.000000  731.000000  731.000000  731.000000  731.000000   \n",
       "mean     2.496580    0.500684    6.519836    0.028728    2.997264    0.683995   \n",
       "std      1.110807    0.500342    3.451913    0.167155    2.004787    0.465233   \n",
       "min      1.000000    0.000000    1.000000    0.000000    0.000000    0.000000   \n",
       "25%      2.000000    0.000000    4.000000    0.000000    1.000000    0.000000   \n",
       "50%      3.000000    1.000000    7.000000    0.000000    3.000000    1.000000   \n",
       "75%      3.000000    1.000000   10.000000    0.000000    5.000000    1.000000   \n",
       "max      4.000000    1.000000   12.000000    1.000000    6.000000    1.000000   \n",
       "\n",
       "       weathersit        temp       atemp         hum   windspeed  \\\n",
       "count  731.000000  731.000000  731.000000  731.000000  731.000000   \n",
       "mean     1.395349    0.495385    0.474354    0.627894    0.190486   \n",
       "std      0.544894    0.183051    0.162961    0.142429    0.077498   \n",
       "min      1.000000    0.059130    0.079070    0.000000    0.022392   \n",
       "25%      1.000000    0.337083    0.337842    0.520000    0.134950   \n",
       "50%      1.000000    0.498333    0.486733    0.626667    0.180975   \n",
       "75%      2.000000    0.655417    0.608602    0.730209    0.233214   \n",
       "max      3.000000    0.861667    0.840896    0.972500    0.507463   \n",
       "\n",
       "            casual   registered          cnt  \n",
       "count   731.000000   731.000000   731.000000  \n",
       "mean    848.176471  3656.172367  4504.348837  \n",
       "std     686.622488  1560.256377  1937.211452  \n",
       "min       2.000000    20.000000    22.000000  \n",
       "25%     315.500000  2497.000000  3152.000000  \n",
       "50%     713.000000  3662.000000  4548.000000  \n",
       "75%    1096.000000  4776.500000  5956.000000  \n",
       "max    3410.000000  6946.000000  8714.000000  "
      ]
     },
     "execution_count": 4,
     "metadata": {},
     "output_type": "execute_result"
    }
   ],
   "source": [
    "Rental1.describe()\n",
    "\n",
    "## on validating the describe function we can state that there are no missing values in the data set.(Good Sign)"
   ]
  },
  {
   "cell_type": "code",
   "execution_count": 5,
   "metadata": {},
   "outputs": [],
   "source": [
    "### glimpse on how the continous variable depending on eachother in both with and without cnt\n",
    "\n",
    "\n",
    "cnames= ['temp', 'atemp', 'hum', 'windspeed', 'casual','registered', 'cnt']\n",
    "\n",
    "cnames1= ['temp', 'atemp', 'hum', 'windspeed', 'casual','registered']\n",
    "\n",
    "numerdata= Rental1[cnames1]\n",
    "\n",
    "numerical_data=Rental1[cnames]"
   ]
  },
  {
   "cell_type": "code",
   "execution_count": 6,
   "metadata": {
    "collapsed": true
   },
   "outputs": [
    {
     "data": {
      "text/html": [
       "<div>\n",
       "<style scoped>\n",
       "    .dataframe tbody tr th:only-of-type {\n",
       "        vertical-align: middle;\n",
       "    }\n",
       "\n",
       "    .dataframe tbody tr th {\n",
       "        vertical-align: top;\n",
       "    }\n",
       "\n",
       "    .dataframe thead th {\n",
       "        text-align: right;\n",
       "    }\n",
       "</style>\n",
       "<table border=\"1\" class=\"dataframe\">\n",
       "  <thead>\n",
       "    <tr style=\"text-align: right;\">\n",
       "      <th></th>\n",
       "      <th>temp</th>\n",
       "      <th>atemp</th>\n",
       "      <th>hum</th>\n",
       "      <th>windspeed</th>\n",
       "      <th>casual</th>\n",
       "      <th>registered</th>\n",
       "      <th>cnt</th>\n",
       "    </tr>\n",
       "  </thead>\n",
       "  <tbody>\n",
       "    <tr>\n",
       "      <th>0</th>\n",
       "      <td>0.344167</td>\n",
       "      <td>0.363625</td>\n",
       "      <td>0.805833</td>\n",
       "      <td>0.160446</td>\n",
       "      <td>331</td>\n",
       "      <td>654</td>\n",
       "      <td>985</td>\n",
       "    </tr>\n",
       "    <tr>\n",
       "      <th>1</th>\n",
       "      <td>0.363478</td>\n",
       "      <td>0.353739</td>\n",
       "      <td>0.696087</td>\n",
       "      <td>0.248539</td>\n",
       "      <td>131</td>\n",
       "      <td>670</td>\n",
       "      <td>801</td>\n",
       "    </tr>\n",
       "    <tr>\n",
       "      <th>2</th>\n",
       "      <td>0.196364</td>\n",
       "      <td>0.189405</td>\n",
       "      <td>0.437273</td>\n",
       "      <td>0.248309</td>\n",
       "      <td>120</td>\n",
       "      <td>1229</td>\n",
       "      <td>1349</td>\n",
       "    </tr>\n",
       "    <tr>\n",
       "      <th>3</th>\n",
       "      <td>0.200000</td>\n",
       "      <td>0.212122</td>\n",
       "      <td>0.590435</td>\n",
       "      <td>0.160296</td>\n",
       "      <td>108</td>\n",
       "      <td>1454</td>\n",
       "      <td>1562</td>\n",
       "    </tr>\n",
       "    <tr>\n",
       "      <th>4</th>\n",
       "      <td>0.226957</td>\n",
       "      <td>0.229270</td>\n",
       "      <td>0.436957</td>\n",
       "      <td>0.186900</td>\n",
       "      <td>82</td>\n",
       "      <td>1518</td>\n",
       "      <td>1600</td>\n",
       "    </tr>\n",
       "  </tbody>\n",
       "</table>\n",
       "</div>"
      ],
      "text/plain": [
       "       temp     atemp       hum  windspeed  casual  registered   cnt\n",
       "0  0.344167  0.363625  0.805833   0.160446     331         654   985\n",
       "1  0.363478  0.353739  0.696087   0.248539     131         670   801\n",
       "2  0.196364  0.189405  0.437273   0.248309     120        1229  1349\n",
       "3  0.200000  0.212122  0.590435   0.160296     108        1454  1562\n",
       "4  0.226957  0.229270  0.436957   0.186900      82        1518  1600"
      ]
     },
     "execution_count": 6,
     "metadata": {},
     "output_type": "execute_result"
    }
   ],
   "source": [
    "numerical_data.head()"
   ]
  },
  {
   "cell_type": "code",
   "execution_count": 7,
   "metadata": {
    "collapsed": true
   },
   "outputs": [
    {
     "data": {
      "text/plain": [
       "<matplotlib.axes._subplots.AxesSubplot at 0x1f7a0287400>"
      ]
     },
     "execution_count": 7,
     "metadata": {},
     "output_type": "execute_result"
    },
    {
     "data": {
      "image/png": "[encoded data removed]",
      "text/plain": [
       "<Figure size 432x288 with 2 Axes>"
      ]
     },
     "metadata": {},
     "output_type": "display_data"
    }
   ],
   "source": [
    "cor_numdata = numerical_data.corr()##with cnt\n",
    "\n",
    "sns.heatmap(cor_numdata, annot = True)"
   ]
  },
  {
   "cell_type": "code",
   "execution_count": 8,
   "metadata": {
    "collapsed": true
   },
   "outputs": [
    {
     "data": {
      "text/plain": [
       "<matplotlib.axes._subplots.AxesSubplot at 0x1f7a0a9ae80>"
      ]
     },
     "execution_count": 8,
     "metadata": {},
     "output_type": "execute_result"
    },
    {
     "data": {
      "image/png": "[encoded data removed]",
      "text/plain": [
       "<Figure size 432x288 with 2 Axes>"
      ]
     },
     "metadata": {},
     "output_type": "display_data"
    }
   ],
   "source": [
    "cor_numedata = numerdata.corr()##without cnt\n",
    "\n",
    "sns.heatmap(cor_numedata, annot = True)"
   ]
  },
  {
   "cell_type": "code",
   "execution_count": 9,
   "metadata": {},
   "outputs": [],
   "source": [
    "# by ploting the heatmap for the numerical data temp and atemp is high correlated and cnt & hum didn't have relation\n",
    "##Hum is not required to predict the cnt variable it only makes negative effect to the model\n",
    "## Removing those variable from the dataset \n",
    "\n",
    "Data_Rental= Rental1.drop([\"atemp\",\"hum\"], axis= 1)"
   ]
  },
  {
   "cell_type": "code",
   "execution_count": 10,
   "metadata": {
    "collapsed": true
   },
   "outputs": [
    {
     "data": {
      "text/html": [
       "<div>\n",
       "<style scoped>\n",
       "    .dataframe tbody tr th:only-of-type {\n",
       "        vertical-align: middle;\n",
       "    }\n",
       "\n",
       "    .dataframe tbody tr th {\n",
       "        vertical-align: top;\n",
       "    }\n",
       "\n",
       "    .dataframe thead th {\n",
       "        text-align: right;\n",
       "    }\n",
       "</style>\n",
       "<table border=\"1\" class=\"dataframe\">\n",
       "  <thead>\n",
       "    <tr style=\"text-align: right;\">\n",
       "      <th></th>\n",
       "      <th>season</th>\n",
       "      <th>yr</th>\n",
       "      <th>mnth</th>\n",
       "      <th>holiday</th>\n",
       "      <th>weekday</th>\n",
       "      <th>workingday</th>\n",
       "      <th>weathersit</th>\n",
       "      <th>temp</th>\n",
       "      <th>windspeed</th>\n",
       "      <th>casual</th>\n",
       "      <th>registered</th>\n",
       "      <th>cnt</th>\n",
       "    </tr>\n",
       "  </thead>\n",
       "  <tbody>\n",
       "    <tr>\n",
       "      <th>0</th>\n",
       "      <td>1</td>\n",
       "      <td>0</td>\n",
       "      <td>1</td>\n",
       "      <td>0</td>\n",
       "      <td>6</td>\n",
       "      <td>0</td>\n",
       "      <td>2</td>\n",
       "      <td>0.344167</td>\n",
       "      <td>0.160446</td>\n",
       "      <td>331</td>\n",
       "      <td>654</td>\n",
       "      <td>985</td>\n",
       "    </tr>\n",
       "    <tr>\n",
       "      <th>1</th>\n",
       "      <td>1</td>\n",
       "      <td>0</td>\n",
       "      <td>1</td>\n",
       "      <td>0</td>\n",
       "      <td>0</td>\n",
       "      <td>0</td>\n",
       "      <td>2</td>\n",
       "      <td>0.363478</td>\n",
       "      <td>0.248539</td>\n",
       "      <td>131</td>\n",
       "      <td>670</td>\n",
       "      <td>801</td>\n",
       "    </tr>\n",
       "    <tr>\n",
       "      <th>2</th>\n",
       "      <td>1</td>\n",
       "      <td>0</td>\n",
       "      <td>1</td>\n",
       "      <td>0</td>\n",
       "      <td>1</td>\n",
       "      <td>1</td>\n",
       "      <td>1</td>\n",
       "      <td>0.196364</td>\n",
       "      <td>0.248309</td>\n",
       "      <td>120</td>\n",
       "      <td>1229</td>\n",
       "      <td>1349</td>\n",
       "    </tr>\n",
       "    <tr>\n",
       "      <th>3</th>\n",
       "      <td>1</td>\n",
       "      <td>0</td>\n",
       "      <td>1</td>\n",
       "      <td>0</td>\n",
       "      <td>2</td>\n",
       "      <td>1</td>\n",
       "      <td>1</td>\n",
       "      <td>0.200000</td>\n",
       "      <td>0.160296</td>\n",
       "      <td>108</td>\n",
       "      <td>1454</td>\n",
       "      <td>1562</td>\n",
       "    </tr>\n",
       "    <tr>\n",
       "      <th>4</th>\n",
       "      <td>1</td>\n",
       "      <td>0</td>\n",
       "      <td>1</td>\n",
       "      <td>0</td>\n",
       "      <td>3</td>\n",
       "      <td>1</td>\n",
       "      <td>1</td>\n",
       "      <td>0.226957</td>\n",
       "      <td>0.186900</td>\n",
       "      <td>82</td>\n",
       "      <td>1518</td>\n",
       "      <td>1600</td>\n",
       "    </tr>\n",
       "  </tbody>\n",
       "</table>\n",
       "</div>"
      ],
      "text/plain": [
       "   season  yr  mnth  holiday  weekday  workingday  weathersit      temp  \\\n",
       "0       1   0     1        0        6           0           2  0.344167   \n",
       "1       1   0     1        0        0           0           2  0.363478   \n",
       "2       1   0     1        0        1           1           1  0.196364   \n",
       "3       1   0     1        0        2           1           1  0.200000   \n",
       "4       1   0     1        0        3           1           1  0.226957   \n",
       "\n",
       "   windspeed  casual  registered   cnt  \n",
       "0   0.160446     331         654   985  \n",
       "1   0.248539     131         670   801  \n",
       "2   0.248309     120        1229  1349  \n",
       "3   0.160296     108        1454  1562  \n",
       "4   0.186900      82        1518  1600  "
      ]
     },
     "execution_count": 10,
     "metadata": {},
     "output_type": "execute_result"
    }
   ],
   "source": [
    "## Exploring the new dataset\n",
    "Data_Rental.head()"
   ]
  },
  {
   "cell_type": "code",
   "execution_count": 11,
   "metadata": {
    "collapsed": true
   },
   "outputs": [
    {
     "data": {
      "image/png": "[encoded data removed]",
      "text/plain": [
       "<Figure size 1080x1080 with 7 Axes>"
      ]
     },
     "metadata": {},
     "output_type": "display_data"
    }
   ],
   "source": [
    "## Now its easy to handle the data \n",
    "## Visualization of categorical data\n",
    "\n",
    "category =['season', 'yr', 'mnth', 'holiday', 'weekday', 'workingday',\n",
    "       'weathersit']\n",
    "plt.figure(figsize=(15,15))\n",
    "plt.subplot(331)\n",
    "sns.countplot(Data_Rental.season)\n",
    "plt.subplot(332)\n",
    "sns.countplot(Data_Rental.yr)\n",
    "plt.subplot(333)\n",
    "sns.countplot(Data_Rental.mnth)\n",
    "plt.subplot(334)\n",
    "sns.countplot(Data_Rental.holiday)\n",
    "plt.subplot(335)\n",
    "sns.countplot(Data_Rental.weekday)\n",
    "plt.subplot(336)\n",
    "sns.countplot(Data_Rental.workingday)\n",
    "plt.subplot(337)\n",
    "sns.countplot(Data_Rental.weathersit)\n",
    "plt.show()"
   ]
  },
  {
   "cell_type": "code",
   "execution_count": 12,
   "metadata": {
    "collapsed": true
   },
   "outputs": [
    {
     "data": {
      "image/png": "[encoded data removed]",
      "text/plain": [
       "<Figure size 720x720 with 4 Axes>"
      ]
     },
     "metadata": {},
     "output_type": "display_data"
    }
   ],
   "source": [
    "plt.figure(figsize=(10,10))\n",
    "plt.subplot(221)\n",
    "plt.boxplot(Data_Rental.temp)\n",
    "plt.title(\"Outlier analysis for temp\")\n",
    "plt.subplot(222)\n",
    "plt.boxplot(Data_Rental.windspeed )\n",
    "plt.title(\"Outlier analysis for wind Speed\")\n",
    "plt.subplot(223)\n",
    "plt.boxplot(Data_Rental.casual )\n",
    "plt.title(\"Outlier analysis for casual\")\n",
    "plt.subplot(224)\n",
    "plt.boxplot(Data_Rental.registered )\n",
    "plt.title(\"Outlier analysis for registered\")\n",
    "plt.show()"
   ]
  },
  {
   "cell_type": "code",
   "execution_count": 13,
   "metadata": {
    "collapsed": true
   },
   "outputs": [
    {
     "data": {
      "image/png": "[encoded data removed]",
      "text/plain": [
       "<Figure size 432x288 with 1 Axes>"
      ]
     },
     "metadata": {},
     "output_type": "display_data"
    }
   ],
   "source": [
    "plt.boxplot(Data_Rental.cnt )\n",
    "plt.title(\"Outlier analysis for cnt\")\n",
    "plt.show()"
   ]
  },
  {
   "cell_type": "markdown",
   "metadata": {},
   "source": [
    "## Removing the outliers"
   ]
  },
  {
   "cell_type": "code",
   "execution_count": 14,
   "metadata": {},
   "outputs": [],
   "source": [
    "## from observed boxplots casual and windspeed having the outliers\n",
    "\n",
    "Outliers= ['windspeed','casual']\n",
    "\n",
    "for i in Outliers:\n",
    "    \n",
    "    q75 ,q25 = np.percentile(Data_Rental.loc[:,i] ,[75,25])\n",
    "    \n",
    "    iqr =q75-q25\n",
    "    \n",
    "    minimum = q25 -(1.5*iqr)\n",
    "    maximum = q75+(1.5*iqr)\n",
    "    \n",
    "    Data_Rental.loc[Data_Rental[i]<minimum ,i]=np.nan\n",
    "    Data_Rental.loc[Data_Rental[i]>maximum ,i]=np.nan"
   ]
  },
  {
   "cell_type": "code",
   "execution_count": 15,
   "metadata": {},
   "outputs": [],
   "source": [
    "m_values=pd.DataFrame(Data_Rental.isnull().sum())"
   ]
  },
  {
   "cell_type": "code",
   "execution_count": 16,
   "metadata": {
    "collapsed": true
   },
   "outputs": [
    {
     "data": {
      "text/html": [
       "<div>\n",
       "<style scoped>\n",
       "    .dataframe tbody tr th:only-of-type {\n",
       "        vertical-align: middle;\n",
       "    }\n",
       "\n",
       "    .dataframe tbody tr th {\n",
       "        vertical-align: top;\n",
       "    }\n",
       "\n",
       "    .dataframe thead th {\n",
       "        text-align: right;\n",
       "    }\n",
       "</style>\n",
       "<table border=\"1\" class=\"dataframe\">\n",
       "  <thead>\n",
       "    <tr style=\"text-align: right;\">\n",
       "      <th></th>\n",
       "      <th>0</th>\n",
       "    </tr>\n",
       "  </thead>\n",
       "  <tbody>\n",
       "    <tr>\n",
       "      <th>season</th>\n",
       "      <td>0</td>\n",
       "    </tr>\n",
       "    <tr>\n",
       "      <th>yr</th>\n",
       "      <td>0</td>\n",
       "    </tr>\n",
       "    <tr>\n",
       "      <th>mnth</th>\n",
       "      <td>0</td>\n",
       "    </tr>\n",
       "    <tr>\n",
       "      <th>holiday</th>\n",
       "      <td>0</td>\n",
       "    </tr>\n",
       "    <tr>\n",
       "      <th>weekday</th>\n",
       "      <td>0</td>\n",
       "    </tr>\n",
       "    <tr>\n",
       "      <th>workingday</th>\n",
       "      <td>0</td>\n",
       "    </tr>\n",
       "    <tr>\n",
       "      <th>weathersit</th>\n",
       "      <td>0</td>\n",
       "    </tr>\n",
       "    <tr>\n",
       "      <th>temp</th>\n",
       "      <td>0</td>\n",
       "    </tr>\n",
       "    <tr>\n",
       "      <th>windspeed</th>\n",
       "      <td>13</td>\n",
       "    </tr>\n",
       "    <tr>\n",
       "      <th>casual</th>\n",
       "      <td>44</td>\n",
       "    </tr>\n",
       "    <tr>\n",
       "      <th>registered</th>\n",
       "      <td>0</td>\n",
       "    </tr>\n",
       "    <tr>\n",
       "      <th>cnt</th>\n",
       "      <td>0</td>\n",
       "    </tr>\n",
       "  </tbody>\n",
       "</table>\n",
       "</div>"
      ],
      "text/plain": [
       "             0\n",
       "season       0\n",
       "yr           0\n",
       "mnth         0\n",
       "holiday      0\n",
       "weekday      0\n",
       "workingday   0\n",
       "weathersit   0\n",
       "temp         0\n",
       "windspeed   13\n",
       "casual      44\n",
       "registered   0\n",
       "cnt          0"
      ]
     },
     "execution_count": 16,
     "metadata": {},
     "output_type": "execute_result"
    }
   ],
   "source": [
    "m_values"
   ]
  },
  {
   "cell_type": "code",
   "execution_count": 17,
   "metadata": {},
   "outputs": [],
   "source": [
    "m_values=m_values.sort_values(by=0 , ascending=False)\n",
    "m_values.rename(columns={0:'count'},inplace=True)\n",
    "m_values['count'] = (m_values['count']/Data_Rental.shape[0])*100\n",
    "m_values.rename(columns={'count':\"percentage\"},inplace=True)"
   ]
  },
  {
   "cell_type": "code",
   "execution_count": 18,
   "metadata": {
    "collapsed": true
   },
   "outputs": [
    {
     "data": {
      "text/html": [
       "<div>\n",
       "<style scoped>\n",
       "    .dataframe tbody tr th:only-of-type {\n",
       "        vertical-align: middle;\n",
       "    }\n",
       "\n",
       "    .dataframe tbody tr th {\n",
       "        vertical-align: top;\n",
       "    }\n",
       "\n",
       "    .dataframe thead th {\n",
       "        text-align: right;\n",
       "    }\n",
       "</style>\n",
       "<table border=\"1\" class=\"dataframe\">\n",
       "  <thead>\n",
       "    <tr style=\"text-align: right;\">\n",
       "      <th></th>\n",
       "      <th>percentage</th>\n",
       "    </tr>\n",
       "  </thead>\n",
       "  <tbody>\n",
       "    <tr>\n",
       "      <th>casual</th>\n",
       "      <td>6.019152</td>\n",
       "    </tr>\n",
       "    <tr>\n",
       "      <th>windspeed</th>\n",
       "      <td>1.778386</td>\n",
       "    </tr>\n",
       "    <tr>\n",
       "      <th>season</th>\n",
       "      <td>0.000000</td>\n",
       "    </tr>\n",
       "    <tr>\n",
       "      <th>yr</th>\n",
       "      <td>0.000000</td>\n",
       "    </tr>\n",
       "    <tr>\n",
       "      <th>mnth</th>\n",
       "      <td>0.000000</td>\n",
       "    </tr>\n",
       "    <tr>\n",
       "      <th>holiday</th>\n",
       "      <td>0.000000</td>\n",
       "    </tr>\n",
       "    <tr>\n",
       "      <th>weekday</th>\n",
       "      <td>0.000000</td>\n",
       "    </tr>\n",
       "    <tr>\n",
       "      <th>workingday</th>\n",
       "      <td>0.000000</td>\n",
       "    </tr>\n",
       "    <tr>\n",
       "      <th>weathersit</th>\n",
       "      <td>0.000000</td>\n",
       "    </tr>\n",
       "    <tr>\n",
       "      <th>temp</th>\n",
       "      <td>0.000000</td>\n",
       "    </tr>\n",
       "    <tr>\n",
       "      <th>registered</th>\n",
       "      <td>0.000000</td>\n",
       "    </tr>\n",
       "    <tr>\n",
       "      <th>cnt</th>\n",
       "      <td>0.000000</td>\n",
       "    </tr>\n",
       "  </tbody>\n",
       "</table>\n",
       "</div>"
      ],
      "text/plain": [
       "            percentage\n",
       "casual        6.019152\n",
       "windspeed     1.778386\n",
       "season        0.000000\n",
       "yr            0.000000\n",
       "mnth          0.000000\n",
       "holiday       0.000000\n",
       "weekday       0.000000\n",
       "workingday    0.000000\n",
       "weathersit    0.000000\n",
       "temp          0.000000\n",
       "registered    0.000000\n",
       "cnt           0.000000"
      ]
     },
     "execution_count": 18,
     "metadata": {},
     "output_type": "execute_result"
    }
   ],
   "source": [
    "m_values"
   ]
  },
  {
   "cell_type": "markdown",
   "metadata": {},
   "source": [
    "## Imputing values with KNN"
   ]
  },
  {
   "cell_type": "code",
   "execution_count": 19,
   "metadata": {},
   "outputs": [],
   "source": [
    "from fancyimpute import KNN"
   ]
  },
  {
   "cell_type": "code",
   "execution_count": 21,
   "metadata": {
    "collapsed": true
   },
   "outputs": [
    {
     "name": "stdout",
     "output_type": "stream",
     "text": [
      "Imputing row 1/731 with 0 missing, elapsed time: 0.288\n",
      "Imputing row 101/731 with 0 missing, elapsed time: 0.288\n",
      "Imputing row 201/731 with 0 missing, elapsed time: 0.288\n",
      "Imputing row 301/731 with 0 missing, elapsed time: 0.288\n",
      "Imputing row 401/731 with 0 missing, elapsed time: 0.288\n",
      "Imputing row 501/731 with 0 missing, elapsed time: 0.304\n",
      "Imputing row 601/731 with 0 missing, elapsed time: 0.304\n",
      "Imputing row 701/731 with 0 missing, elapsed time: 0.304\n"
     ]
    }
   ],
   "source": [
    "Data_Rental = pd.DataFrame(KNN(k = 3).fit_transform(Data_Rental), columns = Data_Rental.columns,index=Data_Rental.index)"
   ]
  },
  {
   "cell_type": "code",
   "execution_count": 22,
   "metadata": {
    "collapsed": true
   },
   "outputs": [
    {
     "data": {
      "text/html": [
       "<div>\n",
       "<style scoped>\n",
       "    .dataframe tbody tr th:only-of-type {\n",
       "        vertical-align: middle;\n",
       "    }\n",
       "\n",
       "    .dataframe tbody tr th {\n",
       "        vertical-align: top;\n",
       "    }\n",
       "\n",
       "    .dataframe thead th {\n",
       "        text-align: right;\n",
       "    }\n",
       "</style>\n",
       "<table border=\"1\" class=\"dataframe\">\n",
       "  <thead>\n",
       "    <tr style=\"text-align: right;\">\n",
       "      <th></th>\n",
       "      <th>0</th>\n",
       "    </tr>\n",
       "  </thead>\n",
       "  <tbody>\n",
       "    <tr>\n",
       "      <th>season</th>\n",
       "      <td>0</td>\n",
       "    </tr>\n",
       "    <tr>\n",
       "      <th>yr</th>\n",
       "      <td>0</td>\n",
       "    </tr>\n",
       "    <tr>\n",
       "      <th>mnth</th>\n",
       "      <td>0</td>\n",
       "    </tr>\n",
       "    <tr>\n",
       "      <th>holiday</th>\n",
       "      <td>0</td>\n",
       "    </tr>\n",
       "    <tr>\n",
       "      <th>weekday</th>\n",
       "      <td>0</td>\n",
       "    </tr>\n",
       "    <tr>\n",
       "      <th>workingday</th>\n",
       "      <td>0</td>\n",
       "    </tr>\n",
       "    <tr>\n",
       "      <th>weathersit</th>\n",
       "      <td>0</td>\n",
       "    </tr>\n",
       "    <tr>\n",
       "      <th>temp</th>\n",
       "      <td>0</td>\n",
       "    </tr>\n",
       "    <tr>\n",
       "      <th>windspeed</th>\n",
       "      <td>0</td>\n",
       "    </tr>\n",
       "    <tr>\n",
       "      <th>casual</th>\n",
       "      <td>0</td>\n",
       "    </tr>\n",
       "    <tr>\n",
       "      <th>registered</th>\n",
       "      <td>0</td>\n",
       "    </tr>\n",
       "    <tr>\n",
       "      <th>cnt</th>\n",
       "      <td>0</td>\n",
       "    </tr>\n",
       "  </tbody>\n",
       "</table>\n",
       "</div>"
      ],
      "text/plain": [
       "            0\n",
       "season      0\n",
       "yr          0\n",
       "mnth        0\n",
       "holiday     0\n",
       "weekday     0\n",
       "workingday  0\n",
       "weathersit  0\n",
       "temp        0\n",
       "windspeed   0\n",
       "casual      0\n",
       "registered  0\n",
       "cnt         0"
      ]
     },
     "execution_count": 22,
     "metadata": {},
     "output_type": "execute_result"
    }
   ],
   "source": [
    "## verifying the missing values\n",
    "missing=pd.DataFrame(Data_Rental.isnull().sum())\n",
    "missing"
   ]
  },
  {
   "cell_type": "markdown",
   "metadata": {},
   "source": [
    "## Feature scaling"
   ]
  },
  {
   "cell_type": "code",
   "execution_count": 26,
   "metadata": {},
   "outputs": [],
   "source": [
    "df= Data_Rental.copy()"
   ]
  },
  {
   "cell_type": "code",
   "execution_count": 30,
   "metadata": {},
   "outputs": [
    {
     "name": "stdout",
     "output_type": "stream",
     "text": [
      "temp\n",
      "windspeed\n",
      "casual\n",
      "registered\n"
     ]
    }
   ],
   "source": [
    "cnames2= ['temp', 'windspeed', 'casual','registered']\n",
    "\n",
    "#Nomalisation\n",
    "for i in cnames2:\n",
    "    print(i)\n",
    "    Data_Rental[i] = (Data_Rental[i] - min(Data_Rental[i]))/(max(Data_Rental[i]) - min(Data_Rental[i]))"
   ]
  },
  {
   "cell_type": "code",
   "execution_count": 31,
   "metadata": {},
   "outputs": [
    {
     "data": {
      "text/plain": [
       "(0.0, 0.0, 0.0, 0.0)"
      ]
     },
     "execution_count": 31,
     "metadata": {},
     "output_type": "execute_result"
    }
   ],
   "source": [
    "##Checking the min values\n",
    "min(Data_Rental.temp), min(Data_Rental.windspeed), min(Data_Rental.casual), min(Data_Rental.registered)"
   ]
  },
  {
   "cell_type": "code",
   "execution_count": 32,
   "metadata": {},
   "outputs": [
    {
     "data": {
      "text/plain": [
       "(1.0, 1.0, 1.0, 1.0)"
      ]
     },
     "execution_count": 32,
     "metadata": {},
     "output_type": "execute_result"
    }
   ],
   "source": [
    "##Checking the max values\n",
    "max(Data_Rental.temp), max(Data_Rental.windspeed), max(Data_Rental.casual), max(Data_Rental.registered)"
   ]
  },
  {
   "cell_type": "code",
   "execution_count": 38,
   "metadata": {},
   "outputs": [
    {
     "data": {
      "text/plain": [
       "(731, 12)"
      ]
     },
     "execution_count": 38,
     "metadata": {},
     "output_type": "execute_result"
    }
   ],
   "source": [
    " Data_Rental.shape"
   ]
  },
  {
   "cell_type": "markdown",
   "metadata": {},
   "source": [
    "## Model Development\n",
    "     --  Desicion Tree   \n",
    "     --  Random Forest\n",
    "     --  Linear Regression"
   ]
  },
  {
   "cell_type": "code",
   "execution_count": 43,
   "metadata": {},
   "outputs": [],
   "source": [
    "#Import Libraries for decision tree\n",
    "from sklearn import tree\n",
    "from sklearn.metrics import accuracy_score\n",
    "from sklearn.model_selection import train_test_split\n",
    "from sklearn.tree import DecisionTreeRegressor"
   ]
  },
  {
   "cell_type": "code",
   "execution_count": 40,
   "metadata": {},
   "outputs": [],
   "source": [
    "X = Data_Rental.values[:, 0:-1]\n",
    "Y = Data_Rental.values[:,-1]\n",
    "\n",
    "X_train, X_test, y_train, y_test = train_test_split( X, Y, test_size = 0.2,  random_state = 2020)"
   ]
  },
  {
   "cell_type": "markdown",
   "metadata": {},
   "source": [
    "## Training the Decision Tree Regression model on the Training set"
   ]
  },
  {
   "cell_type": "code",
   "execution_count": 44,
   "metadata": {},
   "outputs": [
    {
     "data": {
      "text/plain": [
       "DecisionTreeRegressor(random_state=2020)"
      ]
     },
     "execution_count": 44,
     "metadata": {},
     "output_type": "execute_result"
    }
   ],
   "source": [
    "regressor = DecisionTreeRegressor(random_state = 2020)\n",
    "regressor.fit(X_train, y_train)"
   ]
  },
  {
   "cell_type": "code",
   "execution_count": 46,
   "metadata": {
    "collapsed": true
   },
   "outputs": [
    {
     "name": "stdout",
     "output_type": "stream",
     "text": [
      "[[7446. 7436.]\n",
      " [8227. 7148.]\n",
      " [5538. 5362.]\n",
      " [7591. 6234.]\n",
      " [3331. 3071.]\n",
      " [2028. 2133.]\n",
      " [5102. 5008.]\n",
      " [6917. 6879.]\n",
      " [4094. 4098.]\n",
      " [2485. 2132.]\n",
      " [4097. 4075.]\n",
      " [3784. 3944.]\n",
      " [4010. 3958.]\n",
      " [3392. 3403.]\n",
      " [7446. 7415.]\n",
      " [6043. 6043.]\n",
      " [4569. 4509.]\n",
      " [6398. 6457.]\n",
      " [4826. 4795.]\n",
      " [3750. 3831.]\n",
      " [2914. 3228.]\n",
      " [5202. 5298.]\n",
      " [5740. 5918.]\n",
      " [1543. 1529.]\n",
      " [3409. 3649.]\n",
      " [4123. 4189.]\n",
      " [5499. 5170.]\n",
      " [1693. 1623.]\n",
      " [3784. 3805.]\n",
      " [7216. 7338.]\n",
      " [3485. 3423.]\n",
      " [4792. 4845.]\n",
      " [4881. 4906.]\n",
      " [6118. 6536.]\n",
      " [6544. 7129.]\n",
      " [3190. 2927.]\n",
      " [4182. 4195.]\n",
      " [4916. 5062.]\n",
      " [6544. 7132.]\n",
      " [3544. 3644.]\n",
      " [4563. 4634.]\n",
      " [3115. 2918.]\n",
      " [3292. 3163.]\n",
      " [7720. 7870.]\n",
      " [3574. 3542.]\n",
      " [4677. 4656.]\n",
      " [7030. 6779.]\n",
      " [2485. 2496.]\n",
      " [3922. 3956.]\n",
      " [4592. 4649.]\n",
      " [7261. 7112.]\n",
      " [4266. 4338.]\n",
      " [6544. 6883.]\n",
      " [3623. 3577.]\n",
      " [4763. 4725.]\n",
      " [6778. 7572.]\n",
      " [7216. 7040.]\n",
      " [4359. 4400.]\n",
      " [7691. 7693.]\n",
      " [3422. 3598.]\n",
      " [4563. 4486.]\n",
      " [7534. 7444.]\n",
      " [2115. 2134.]\n",
      " [3285. 3239.]\n",
      " [6436. 6211.]\n",
      " [7498. 7458.]\n",
      " [5225. 5515.]\n",
      " [7359. 7328.]\n",
      " [2423. 2431.]\n",
      " [6917. 6786.]\n",
      " [4511. 4665.]\n",
      " [3510. 3429.]\n",
      " [5740. 5847.]\n",
      " [1096. 1098.]\n",
      " [6233. 6133.]\n",
      " [1472. 1341.]\n",
      " [6312. 6296.]\n",
      " [3811. 3624.]\n",
      " [3811. 3784.]\n",
      " [4492. 4507.]\n",
      " [6998. 7006.]\n",
      " [1000. 1005.]\n",
      " [1851. 1807.]\n",
      " [1589. 1812.]\n",
      " [ 506.  754.]\n",
      " [6544. 6536.]\n",
      " [6207. 6241.]\n",
      " [2402. 2792.]\n",
      " [5538. 5629.]\n",
      " [6861. 6825.]\n",
      " [6544. 6978.]\n",
      " [4803. 4864.]\n",
      " [3761. 3894.]\n",
      " [2914. 2933.]\n",
      " [1917. 1977.]\n",
      " [5312. 5217.]\n",
      " [2162. 2227.]\n",
      " [4105. 4040.]\n",
      " [5531. 5687.]\n",
      " [2947. 2802.]\n",
      " [7665. 7736.]\n",
      " [3767. 3872.]\n",
      " [1685. 1683.]\n",
      " [8362. 7350.]\n",
      " [8227. 8714.]\n",
      " [6140. 5423.]\n",
      " [5698. 5686.]\n",
      " [5409. 5805.]\n",
      " [2034. 2192.]\n",
      " [6855. 6392.]\n",
      " [5058. 4839.]\n",
      " [2114. 1951.]\n",
      " [4274. 4333.]\n",
      " [3922. 4270.]\n",
      " [6569. 6664.]\n",
      " [7403. 7410.]\n",
      " [4765. 4748.]\n",
      " [6359. 5892.]\n",
      " [6118. 6299.]\n",
      " [2302. 2209.]\n",
      " [6691. 6572.]\n",
      " [4459. 4549.]\n",
      " [4991. 4985.]\n",
      " [4375. 4862.]\n",
      " [2121. 2169.]\n",
      " [3351. 3372.]\n",
      " [4375. 4363.]\n",
      " [4844. 4760.]\n",
      " [6855. 7393.]\n",
      " [3855. 3786.]\n",
      " [5532. 5566.]\n",
      " [2935. 3204.]\n",
      " [7865. 7641.]\n",
      " [7216. 7001.]\n",
      " [5202. 5312.]\n",
      " [2077. 2417.]\n",
      " [7591. 6606.]\n",
      " [6169. 6196.]\n",
      " [3389. 3267.]\n",
      " [7498. 7460.]\n",
      " [3767. 3747.]\n",
      " [6436. 6290.]\n",
      " [5728. 5572.]\n",
      " [6269. 6273.]\n",
      " [3190. 3243.]\n",
      " [6565. 6770.]\n",
      " [5499. 5319.]]\n"
     ]
    }
   ],
   "source": [
    "##Predicting the Test set results\n",
    "y_pred = regressor.predict(X_test)\n",
    "print(np.concatenate((y_pred.reshape(len(y_pred),1), y_test.reshape(len(y_test),1)),1))"
   ]
  },
  {
   "cell_type": "markdown",
   "metadata": {},
   "source": [
    "## Evaluating the Model Performance "
   ]
  },
  {
   "cell_type": "code",
   "execution_count": 47,
   "metadata": {},
   "outputs": [
    {
     "data": {
      "text/plain": [
       "0.9776588919849357"
      ]
     },
     "execution_count": 47,
     "metadata": {},
     "output_type": "execute_result"
    }
   ],
   "source": [
    "from sklearn.metrics import r2_score\n",
    "r2_score(y_test, y_pred)"
   ]
  },
  {
   "cell_type": "code",
   "execution_count": 48,
   "metadata": {},
   "outputs": [],
   "source": [
    "#Mean absolute percentage error\n",
    "def MAPE(actual ,predicted):\n",
    "    return np.mean(np.abs((actual-predicted)/actual))*100"
   ]
  },
  {
   "cell_type": "code",
   "execution_count": 49,
   "metadata": {},
   "outputs": [
    {
     "data": {
      "text/plain": [
       "3.6720127209069364"
      ]
     },
     "execution_count": 49,
     "metadata": {},
     "output_type": "execute_result"
    }
   ],
   "source": [
    "MAPE(y_test,y_pred)"
   ]
  },
  {
   "cell_type": "markdown",
   "metadata": {},
   "source": [
    "## Training the Random Forest Regression model on the whole dataset "
   ]
  },
  {
   "cell_type": "code",
   "execution_count": 50,
   "metadata": {},
   "outputs": [],
   "source": [
    "from sklearn.ensemble import RandomForestRegressor"
   ]
  },
  {
   "cell_type": "code",
   "execution_count": 62,
   "metadata": {},
   "outputs": [
    {
     "data": {
      "text/plain": [
       "RandomForestRegressor(n_estimators=10, random_state=2020)"
      ]
     },
     "execution_count": 62,
     "metadata": {},
     "output_type": "execute_result"
    }
   ],
   "source": [
    "regressor = RandomForestRegressor(n_estimators = 10, random_state = 2020)\n",
    "regressor.fit(X_train, y_train)"
   ]
  },
  {
   "cell_type": "code",
   "execution_count": 53,
   "metadata": {
    "collapsed": true
   },
   "outputs": [
    {
     "name": "stdout",
     "output_type": "stream",
     "text": [
      "[[7481.1 7436. ]\n",
      " [7772.6 7148. ]\n",
      " [5437.2 5362. ]\n",
      " [6528.6 6234. ]\n",
      " [2984.6 3071. ]\n",
      " [2116.9 2133. ]\n",
      " [5099.3 5008. ]\n",
      " [7003.4 6879. ]\n",
      " [4119.6 4098. ]\n",
      " [2306.  2132. ]\n",
      " [4073.1 4075. ]\n",
      " [3837.3 3944. ]\n",
      " [4065.1 3958. ]\n",
      " [3418.8 3403. ]\n",
      " [7424.8 7415. ]\n",
      " [6062.5 6043. ]\n",
      " [4495.8 4509. ]\n",
      " [6273.3 6457. ]\n",
      " [4858.3 4795. ]\n",
      " [3820.  3831. ]\n",
      " [3126.3 3228. ]\n",
      " [5258.4 5298. ]\n",
      " [5748.9 5918. ]\n",
      " [1534.8 1529. ]\n",
      " [3466.  3649. ]\n",
      " [4198.  4189. ]\n",
      " [5272.  5170. ]\n",
      " [1592.7 1623. ]\n",
      " [3848.5 3805. ]\n",
      " [7353.6 7338. ]\n",
      " [3527.  3423. ]\n",
      " [4855.4 4845. ]\n",
      " [4901.  4906. ]\n",
      " [6258.8 6536. ]\n",
      " [6602.2 7129. ]\n",
      " [3045.6 2927. ]\n",
      " [4239.  4195. ]\n",
      " [5037.6 5062. ]\n",
      " [6562.1 7132. ]\n",
      " [3642.5 3644. ]\n",
      " [4628.6 4634. ]\n",
      " [3062.1 2918. ]\n",
      " [3231.  3163. ]\n",
      " [7767.7 7870. ]\n",
      " [3549.8 3542. ]\n",
      " [4650.  4656. ]\n",
      " [6770.7 6779. ]\n",
      " [2384.5 2496. ]\n",
      " [3975.6 3956. ]\n",
      " [4646.5 4649. ]\n",
      " [7225.  7112. ]\n",
      " [4336.7 4338. ]\n",
      " [6522.2 6883. ]\n",
      " [3559.  3577. ]\n",
      " [4777.6 4725. ]\n",
      " [7375.4 7572. ]\n",
      " [7011.  7040. ]\n",
      " [4412.9 4400. ]\n",
      " [7736.4 7693. ]\n",
      " [3502.2 3598. ]\n",
      " [4482.  4486. ]\n",
      " [7480.8 7444. ]\n",
      " [2152.9 2134. ]\n",
      " [3321.8 3239. ]\n",
      " [6262.5 6211. ]\n",
      " [7425.7 7458. ]\n",
      " [5548.2 5515. ]\n",
      " [7392.2 7328. ]\n",
      " [2428.2 2431. ]\n",
      " [6959.9 6786. ]\n",
      " [4529.8 4665. ]\n",
      " [3588.3 3429. ]\n",
      " [5731.8 5847. ]\n",
      " [1134.9 1098. ]\n",
      " [6178.7 6133. ]\n",
      " [1481.2 1341. ]\n",
      " [6267.9 6296. ]\n",
      " [3714.5 3624. ]\n",
      " [3817.6 3784. ]\n",
      " [4548.8 4507. ]\n",
      " [7061.6 7006. ]\n",
      " [1067.8 1005. ]\n",
      " [1824.9 1807. ]\n",
      " [1772.4 1812. ]\n",
      " [ 704.2  754. ]\n",
      " [6551.3 6536. ]\n",
      " [6309.9 6241. ]\n",
      " [2697.9 2792. ]\n",
      " [5639.3 5629. ]\n",
      " [6818.  6825. ]\n",
      " [6634.9 6978. ]\n",
      " [4837.9 4864. ]\n",
      " [3915.8 3894. ]\n",
      " [2995.9 2933. ]\n",
      " [2006.4 1977. ]\n",
      " [5188.8 5217. ]\n",
      " [2174.4 2227. ]\n",
      " [4106.5 4040. ]\n",
      " [5646.3 5687. ]\n",
      " [2925.9 2802. ]\n",
      " [7749.6 7736. ]\n",
      " [3868.6 3872. ]\n",
      " [1708.5 1683. ]\n",
      " [7610.  7350. ]\n",
      " [8128.9 8714. ]\n",
      " [5284.3 5423. ]\n",
      " [5595.  5686. ]\n",
      " [5875.  5805. ]\n",
      " [2181.5 2192. ]\n",
      " [6601.3 6392. ]\n",
      " [4917.7 4839. ]\n",
      " [2032.9 1951. ]\n",
      " [4354.7 4333. ]\n",
      " [4226.6 4270. ]\n",
      " [6707.4 6664. ]\n",
      " [7345.4 7410. ]\n",
      " [4775.9 4748. ]\n",
      " [6050.8 5892. ]\n",
      " [6299.6 6299. ]\n",
      " [2142.4 2209. ]\n",
      " [6557.5 6572. ]\n",
      " [4326.2 4549. ]\n",
      " [4931.1 4985. ]\n",
      " [4846.7 4862. ]\n",
      " [2174.2 2169. ]\n",
      " [3455.1 3372. ]\n",
      " [4444.  4363. ]\n",
      " [4809.9 4760. ]\n",
      " [7284.6 7393. ]\n",
      " [3739.1 3786. ]\n",
      " [5614.  5566. ]\n",
      " [3034.9 3204. ]\n",
      " [7546.7 7641. ]\n",
      " [6929.1 7001. ]\n",
      " [5269.3 5312. ]\n",
      " [2254.7 2417. ]\n",
      " [6829.5 6606. ]\n",
      " [6211.3 6196. ]\n",
      " [3287.1 3267. ]\n",
      " [6997.9 7460. ]\n",
      " [3701.5 3747. ]\n",
      " [6312.3 6290. ]\n",
      " [5582.9 5572. ]\n",
      " [6237.6 6273. ]\n",
      " [3223.  3243. ]\n",
      " [6703.4 6770. ]\n",
      " [5378.7 5319. ]]\n"
     ]
    }
   ],
   "source": [
    "y_pred = regressor.predict(X_test)\n",
    "np.set_printoptions(precision=2)\n",
    "print(np.concatenate((y_pred.reshape(len(y_pred),1), y_test.reshape(len(y_test),1)),1))"
   ]
  },
  {
   "cell_type": "code",
   "execution_count": 54,
   "metadata": {},
   "outputs": [
    {
     "data": {
      "text/plain": [
       "0.9940656409721551"
      ]
     },
     "execution_count": 54,
     "metadata": {},
     "output_type": "execute_result"
    }
   ],
   "source": [
    "from sklearn.metrics import r2_score\n",
    "r2_score(y_test, y_pred)"
   ]
  },
  {
   "cell_type": "code",
   "execution_count": 55,
   "metadata": {},
   "outputs": [
    {
     "data": {
      "text/plain": [
       "1.9022213788569153"
      ]
     },
     "execution_count": 55,
     "metadata": {},
     "output_type": "execute_result"
    }
   ],
   "source": [
    "MAPE(y_test,y_pred)"
   ]
  },
  {
   "cell_type": "markdown",
   "metadata": {},
   "source": [
    "## Training the Multiple Linear Regression model on the Training set "
   ]
  },
  {
   "cell_type": "code",
   "execution_count": 56,
   "metadata": {},
   "outputs": [
    {
     "data": {
      "text/plain": [
       "LinearRegression()"
      ]
     },
     "execution_count": 56,
     "metadata": {},
     "output_type": "execute_result"
    }
   ],
   "source": [
    "from sklearn.linear_model import LinearRegression\n",
    "regressor = LinearRegression()\n",
    "regressor.fit(X_train, y_train)"
   ]
  },
  {
   "cell_type": "code",
   "execution_count": 57,
   "metadata": {
    "collapsed": true
   },
   "outputs": [
    {
     "name": "stdout",
     "output_type": "stream",
     "text": [
      "[[7472.32 7436.  ]\n",
      " [7257.   7148.  ]\n",
      " [5411.12 5362.  ]\n",
      " [6213.74 6234.  ]\n",
      " [3073.84 3071.  ]\n",
      " [2096.73 2133.  ]\n",
      " [5028.19 5008.  ]\n",
      " [6905.13 6879.  ]\n",
      " [4107.52 4098.  ]\n",
      " [2202.2  2132.  ]\n",
      " [4080.36 4075.  ]\n",
      " [3926.42 3944.  ]\n",
      " [3936.76 3958.  ]\n",
      " [3347.87 3403.  ]\n",
      " [7496.29 7415.  ]\n",
      " [5900.58 6043.  ]\n",
      " [4498.44 4509.  ]\n",
      " [6561.33 6457.  ]\n",
      " [4784.16 4795.  ]\n",
      " [3851.68 3831.  ]\n",
      " [3225.86 3228.  ]\n",
      " [5330.26 5298.  ]\n",
      " [5959.91 5918.  ]\n",
      " [1513.46 1529.  ]\n",
      " [3677.36 3649.  ]\n",
      " [4219.69 4189.  ]\n",
      " [5146.27 5170.  ]\n",
      " [1598.24 1623.  ]\n",
      " [3776.36 3805.  ]\n",
      " [7403.63 7338.  ]\n",
      " [3471.91 3423.  ]\n",
      " [4814.2  4845.  ]\n",
      " [5023.88 4906.  ]\n",
      " [6127.29 6536.  ]\n",
      " [6821.29 7129.  ]\n",
      " [2932.22 2927.  ]\n",
      " [4164.16 4195.  ]\n",
      " [5079.86 5062.  ]\n",
      " [6676.01 7132.  ]\n",
      " [3642.98 3644.  ]\n",
      " [4600.63 4634.  ]\n",
      " [2930.58 2918.  ]\n",
      " [3181.14 3163.  ]\n",
      " [7924.34 7870.  ]\n",
      " [3509.01 3542.  ]\n",
      " [4626.42 4656.  ]\n",
      " [6819.54 6779.  ]\n",
      " [2600.59 2496.  ]\n",
      " [3941.91 3956.  ]\n",
      " [4710.27 4649.  ]\n",
      " [7123.03 7112.  ]\n",
      " [4308.22 4338.  ]\n",
      " [6853.46 6883.  ]\n",
      " [3558.8  3577.  ]\n",
      " [4696.75 4725.  ]\n",
      " [7588.59 7572.  ]\n",
      " [7056.14 7040.  ]\n",
      " [4386.14 4400.  ]\n",
      " [7708.18 7693.  ]\n",
      " [3569.3  3598.  ]\n",
      " [4454.43 4486.  ]\n",
      " [7548.3  7444.  ]\n",
      " [2104.09 2134.  ]\n",
      " [3276.87 3239.  ]\n",
      " [6216.12 6211.  ]\n",
      " [7197.03 7458.  ]\n",
      " [5540.7  5515.  ]\n",
      " [7374.14 7328.  ]\n",
      " [2385.64 2431.  ]\n",
      " [6782.29 6786.  ]\n",
      " [4659.25 4665.  ]\n",
      " [3403.6  3429.  ]\n",
      " [5871.27 5847.  ]\n",
      " [1103.3  1098.  ]\n",
      " [6193.41 6133.  ]\n",
      " [1372.74 1341.  ]\n",
      " [6364.33 6296.  ]\n",
      " [3588.91 3624.  ]\n",
      " [3752.79 3784.  ]\n",
      " [4470.18 4507.  ]\n",
      " [7040.51 7006.  ]\n",
      " [1022.63 1005.  ]\n",
      " [1788.2  1807.  ]\n",
      " [1827.85 1812.  ]\n",
      " [ 718.39  754.  ]\n",
      " [6768.28 6536.  ]\n",
      " [6311.84 6241.  ]\n",
      " [2846.21 2792.  ]\n",
      " [5781.7  5629.  ]\n",
      " [6851.27 6825.  ]\n",
      " [6734.85 6978.  ]\n",
      " [4873.01 4864.  ]\n",
      " [3866.52 3894.  ]\n",
      " [2898.79 2933.  ]\n",
      " [1987.69 1977.  ]\n",
      " [5406.51 5217.  ]\n",
      " [2237.52 2227.  ]\n",
      " [4046.27 4040.  ]\n",
      " [5805.94 5687.  ]\n",
      " [2790.99 2802.  ]\n",
      " [7859.85 7736.  ]\n",
      " [3867.5  3872.  ]\n",
      " [1667.61 1683.  ]\n",
      " [7444.55 7350.  ]\n",
      " [7238.95 8714.  ]\n",
      " [5593.01 5423.  ]\n",
      " [5688.74 5686.  ]\n",
      " [6029.31 5805.  ]\n",
      " [2180.85 2192.  ]\n",
      " [6414.45 6392.  ]\n",
      " [4820.26 4839.  ]\n",
      " [1956.86 1951.  ]\n",
      " [4405.62 4333.  ]\n",
      " [4287.73 4270.  ]\n",
      " [6706.56 6664.  ]\n",
      " [7237.88 7410.  ]\n",
      " [4735.84 4748.  ]\n",
      " [6116.75 5892.  ]\n",
      " [6545.91 6299.  ]\n",
      " [2178.41 2209.  ]\n",
      " [6655.19 6572.  ]\n",
      " [4613.61 4549.  ]\n",
      " [5012.17 4985.  ]\n",
      " [4882.02 4862.  ]\n",
      " [2246.65 2169.  ]\n",
      " [3488.55 3372.  ]\n",
      " [4339.13 4363.  ]\n",
      " [4801.78 4760.  ]\n",
      " [7425.45 7393.  ]\n",
      " [3797.05 3786.  ]\n",
      " [5579.92 5566.  ]\n",
      " [3174.54 3204.  ]\n",
      " [7422.26 7641.  ]\n",
      " [7070.72 7001.  ]\n",
      " [5349.2  5312.  ]\n",
      " [2467.36 2417.  ]\n",
      " [6599.21 6606.  ]\n",
      " [6215.01 6196.  ]\n",
      " [3250.28 3267.  ]\n",
      " [7093.42 7460.  ]\n",
      " [3766.22 3747.  ]\n",
      " [6321.65 6290.  ]\n",
      " [5597.15 5572.  ]\n",
      " [6337.33 6273.  ]\n",
      " [3272.03 3243.  ]\n",
      " [6829.06 6770.  ]\n",
      " [5325.56 5319.  ]]\n"
     ]
    }
   ],
   "source": [
    "y_pred = regressor.predict(X_test)\n",
    "np.set_printoptions(precision=2)\n",
    "print(np.concatenate((y_pred.reshape(len(y_pred),1), y_test.reshape(len(y_test),1)),1))"
   ]
  },
  {
   "cell_type": "code",
   "execution_count": 58,
   "metadata": {},
   "outputs": [
    {
     "data": {
      "text/plain": [
       "0.9927905556124725"
      ]
     },
     "execution_count": 58,
     "metadata": {},
     "output_type": "execute_result"
    }
   ],
   "source": [
    "from sklearn.metrics import r2_score\n",
    "r2_score(y_test, y_pred)"
   ]
  },
  {
   "cell_type": "code",
   "execution_count": 59,
   "metadata": {},
   "outputs": [
    {
     "data": {
      "text/plain": [
       "1.2874952008859906"
      ]
     },
     "execution_count": 59,
     "metadata": {},
     "output_type": "execute_result"
    }
   ],
   "source": [
    "MAPE(y_test,y_pred)"
   ]
  },
  {
   "cell_type": "code",
   "execution_count": 67,
   "metadata": {},
   "outputs": [],
   "source": [
    "## OLS model for linear regression\n",
    "\n",
    "import statsmodels.api as sm\n",
    "\n",
    "LR= sm.OLS(y_train, X_train).fit()"
   ]
  },
  {
   "cell_type": "code",
   "execution_count": 68,
   "metadata": {},
   "outputs": [],
   "source": [
    "y_pred = LR.predict(X_test)"
   ]
  },
  {
   "cell_type": "code",
   "execution_count": 69,
   "metadata": {
    "collapsed": true
   },
   "outputs": [
    {
     "data": {
      "text/html": [
       "<table class=\"simpletable\">\n",
       "<caption>OLS Regression Results</caption>\n",
       "<tr>\n",
       "  <th>Dep. Variable:</th>            <td>y</td>        <th>  R-squared (uncentered):</th>      <td>   0.999</td> \n",
       "</tr>\n",
       "<tr>\n",
       "  <th>Model:</th>                   <td>OLS</td>       <th>  Adj. R-squared (uncentered):</th> <td>   0.999</td> \n",
       "</tr>\n",
       "<tr>\n",
       "  <th>Method:</th>             <td>Least Squares</td>  <th>  F-statistic:       </th>          <td>5.548e+04</td>\n",
       "</tr>\n",
       "<tr>\n",
       "  <th>Date:</th>             <td>Mon, 24 Aug 2020</td> <th>  Prob (F-statistic):</th>           <td>  0.00</td>  \n",
       "</tr>\n",
       "<tr>\n",
       "  <th>Time:</th>                 <td>17:58:09</td>     <th>  Log-Likelihood:    </th>          <td> -3747.7</td> \n",
       "</tr>\n",
       "<tr>\n",
       "  <th>No. Observations:</th>      <td>   584</td>      <th>  AIC:               </th>          <td>   7517.</td> \n",
       "</tr>\n",
       "<tr>\n",
       "  <th>Df Residuals:</th>          <td>   573</td>      <th>  BIC:               </th>          <td>   7565.</td> \n",
       "</tr>\n",
       "<tr>\n",
       "  <th>Df Model:</th>              <td>    11</td>      <th>                     </th>              <td> </td>    \n",
       "</tr>\n",
       "<tr>\n",
       "  <th>Covariance Type:</th>      <td>nonrobust</td>    <th>                     </th>              <td> </td>    \n",
       "</tr>\n",
       "</table>\n",
       "<table class=\"simpletable\">\n",
       "<tr>\n",
       "   <td></td>      <th>coef</th>     <th>std err</th>      <th>t</th>      <th>P>|t|</th>  <th>[0.025</th>    <th>0.975]</th>  \n",
       "</tr>\n",
       "<tr>\n",
       "  <th>x1</th>  <td>   -6.5527</td> <td>   10.938</td> <td>   -0.599</td> <td> 0.549</td> <td>  -28.037</td> <td>   14.931</td>\n",
       "</tr>\n",
       "<tr>\n",
       "  <th>x2</th>  <td>   13.7641</td> <td>   19.811</td> <td>    0.695</td> <td> 0.487</td> <td>  -25.147</td> <td>   52.675</td>\n",
       "</tr>\n",
       "<tr>\n",
       "  <th>x3</th>  <td>   -0.4534</td> <td>    3.186</td> <td>   -0.142</td> <td> 0.887</td> <td>   -6.711</td> <td>    5.804</td>\n",
       "</tr>\n",
       "<tr>\n",
       "  <th>x4</th>  <td>   -4.0082</td> <td>   36.172</td> <td>   -0.111</td> <td> 0.912</td> <td>  -75.054</td> <td>   67.038</td>\n",
       "</tr>\n",
       "<tr>\n",
       "  <th>x5</th>  <td>    7.1395</td> <td>    3.069</td> <td>    2.326</td> <td> 0.020</td> <td>    1.111</td> <td>   13.168</td>\n",
       "</tr>\n",
       "<tr>\n",
       "  <th>x6</th>  <td>  -33.2985</td> <td>   22.953</td> <td>   -1.451</td> <td> 0.147</td> <td>  -78.380</td> <td>   11.783</td>\n",
       "</tr>\n",
       "<tr>\n",
       "  <th>x7</th>  <td>   11.0703</td> <td>   11.107</td> <td>    0.997</td> <td> 0.319</td> <td>  -10.745</td> <td>   32.886</td>\n",
       "</tr>\n",
       "<tr>\n",
       "  <th>x8</th>  <td> -101.0862</td> <td>   42.035</td> <td>   -2.405</td> <td> 0.016</td> <td> -183.649</td> <td>  -18.524</td>\n",
       "</tr>\n",
       "<tr>\n",
       "  <th>x9</th>  <td>    4.6398</td> <td>   26.940</td> <td>    0.172</td> <td> 0.863</td> <td>  -48.273</td> <td>   57.553</td>\n",
       "</tr>\n",
       "<tr>\n",
       "  <th>x10</th> <td> 2514.8124</td> <td>   44.559</td> <td>   56.438</td> <td> 0.000</td> <td> 2427.294</td> <td> 2602.331</td>\n",
       "</tr>\n",
       "<tr>\n",
       "  <th>x11</th> <td> 6959.5511</td> <td>   65.549</td> <td>  106.173</td> <td> 0.000</td> <td> 6830.805</td> <td> 7088.297</td>\n",
       "</tr>\n",
       "</table>\n",
       "<table class=\"simpletable\">\n",
       "<tr>\n",
       "  <th>Omnibus:</th>       <td>543.716</td> <th>  Durbin-Watson:     </th> <td>   2.065</td> \n",
       "</tr>\n",
       "<tr>\n",
       "  <th>Prob(Omnibus):</th> <td> 0.000</td>  <th>  Jarque-Bera (JB):  </th> <td>14602.491</td>\n",
       "</tr>\n",
       "<tr>\n",
       "  <th>Skew:</th>          <td> 4.229</td>  <th>  Prob(JB):          </th> <td>    0.00</td> \n",
       "</tr>\n",
       "<tr>\n",
       "  <th>Kurtosis:</th>      <td>25.990</td>  <th>  Cond. No.          </th> <td>    101.</td> \n",
       "</tr>\n",
       "</table><br/><br/>Warnings:<br/>[1] Standard Errors assume that the covariance matrix of the errors is correctly specified."
      ],
      "text/plain": [
       "<class 'statsmodels.iolib.summary.Summary'>\n",
       "\"\"\"\n",
       "                                 OLS Regression Results                                \n",
       "=======================================================================================\n",
       "Dep. Variable:                      y   R-squared (uncentered):                   0.999\n",
       "Model:                            OLS   Adj. R-squared (uncentered):              0.999\n",
       "Method:                 Least Squares   F-statistic:                          5.548e+04\n",
       "Date:                Mon, 24 Aug 2020   Prob (F-statistic):                        0.00\n",
       "Time:                        17:58:09   Log-Likelihood:                         -3747.7\n",
       "No. Observations:                 584   AIC:                                      7517.\n",
       "Df Residuals:                     573   BIC:                                      7565.\n",
       "Df Model:                          11                                                  \n",
       "Covariance Type:            nonrobust                                                  \n",
       "==============================================================================\n",
       "                 coef    std err          t      P>|t|      [0.025      0.975]\n",
       "------------------------------------------------------------------------------\n",
       "x1            -6.5527     10.938     -0.599      0.549     -28.037      14.931\n",
       "x2            13.7641     19.811      0.695      0.487     -25.147      52.675\n",
       "x3            -0.4534      3.186     -0.142      0.887      -6.711       5.804\n",
       "x4            -4.0082     36.172     -0.111      0.912     -75.054      67.038\n",
       "x5             7.1395      3.069      2.326      0.020       1.111      13.168\n",
       "x6           -33.2985     22.953     -1.451      0.147     -78.380      11.783\n",
       "x7            11.0703     11.107      0.997      0.319     -10.745      32.886\n",
       "x8          -101.0862     42.035     -2.405      0.016    -183.649     -18.524\n",
       "x9             4.6398     26.940      0.172      0.863     -48.273      57.553\n",
       "x10         2514.8124     44.559     56.438      0.000    2427.294    2602.331\n",
       "x11         6959.5511     65.549    106.173      0.000    6830.805    7088.297\n",
       "==============================================================================\n",
       "Omnibus:                      543.716   Durbin-Watson:                   2.065\n",
       "Prob(Omnibus):                  0.000   Jarque-Bera (JB):            14602.491\n",
       "Skew:                           4.229   Prob(JB):                         0.00\n",
       "Kurtosis:                      25.990   Cond. No.                         101.\n",
       "==============================================================================\n",
       "\n",
       "Warnings:\n",
       "[1] Standard Errors assume that the covariance matrix of the errors is correctly specified.\n",
       "\"\"\""
      ]
     },
     "execution_count": 69,
     "metadata": {},
     "output_type": "execute_result"
    }
   ],
   "source": [
    "LR.summary()"
   ]
  },
  {
   "cell_type": "code",
   "execution_count": null,
   "metadata": {},
   "outputs": [],
   "source": []
  }
 ],
 "metadata": {
  "kernelspec": {
   "display_name": "Python 3",
   "language": "python",
   "name": "python3"
  },
  "language_info": {
   "codemirror_mode": {
    "name": "ipython",
    "version": 3
   },
   "file_extension": ".py",
   "mimetype": "text/x-python",
   "name": "python",
   "nbconvert_exporter": "python",
   "pygments_lexer": "ipython3",
   "version": "3.8.3"
  }
 },
 "nbformat": 4,
 "nbformat_minor": 4
}
